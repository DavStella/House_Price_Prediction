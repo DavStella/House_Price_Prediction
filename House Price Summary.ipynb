{
 "cells": [
  {
   "cell_type": "markdown",
   "id": "b5fa87f4-9435-4a25-b62e-c4dfca5e7d64",
   "metadata": {},
   "source": [
    "# House Price Prediction Project: Report Summary\n",
    "\n",
    "## Problem Statement  \n",
    "This project was aimed to build a model that could predict house prices based on property features such as zoning category, lot configuration, building type, and year of construction. The goal was to estimate prices as accurately as possible to support valuation and business decisions.\n",
    "\n",
    "---\n",
    "\n",
    "## Process Overview\n",
    "\n",
    "1. **Data Cleaning**  \n",
    "   - Removed irrelevant columns such as `Id`.\n",
    "   - Filled missing values using mean imputation to ensure model compatibility.\n",
    "\n",
    "2. **Categorical Encoding**  \n",
    "   - Identified all object-type columns.\n",
    "   - Applied OneHotEncoding to convert categorical features into numeric format.\n",
    "\n",
    "3. **Feature-Target Split**  \n",
    "   - Target variable: `SalePrice`\n",
    "   - Predictor variables: All remaining columns.\n",
    "\n",
    "4. **Model Training**  \n",
    "   - Split dataset into training and validation sets (80/20).\n",
    "   - Trained the following models:\n",
    "     - Support Vector Regression (SVR)\n",
    "     - Random Forest Regressor\n",
    "     - Linear Regression\n",
    "\n",
    "5. **Model Evaluation**  \n",
    "   - Used Mean Absolute Percentage Error (MAPE) to assess accuracy.\n",
    "\n",
    "---\n",
    "\n",
    "## Results\n",
    "\n",
    "| Model                  | MAPE Score |\n",
    "|-----------------------|------------|\n",
    "| **Support Vector Regression** | **0.1870** |\n",
    "| Linear Regression      | 0.1874     |\n",
    "| Random Forest Regressor| 0.1958     |\n",
    "\n",
    "---\n",
    "\n",
    "## Conclusion & Recommendation\n",
    "\n",
    "Support Vector Regression delivered the most accurate predictions with the lowest MAPE score. It is therefore recommended as the best model for this task.  \n",
    "Future work can explore boosting algorithms, feature enrichment (e.g. location or renovation flags), or hyperparameter tuning to improve results further.\n",
    "\n"
   ]
  },
  {
   "cell_type": "markdown",
   "id": "e135f097-9714-42c2-8b85-91ecdde23648",
   "metadata": {},
   "source": []
  }
 ],
 "metadata": {
  "kernelspec": {
   "display_name": "Python 3 (ipykernel)",
   "language": "python",
   "name": "python3"
  },
  "language_info": {
   "codemirror_mode": {
    "name": "ipython",
    "version": 3
   },
   "file_extension": ".py",
   "mimetype": "text/x-python",
   "name": "python",
   "nbconvert_exporter": "python",
   "pygments_lexer": "ipython3",
   "version": "3.12.7"
  }
 },
 "nbformat": 4,
 "nbformat_minor": 5
}
